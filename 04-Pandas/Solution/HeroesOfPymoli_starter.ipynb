{
 "cells": [
  {
   "cell_type": "markdown",
   "metadata": {},
   "source": [
    "### Heroes Of Pymoli Data Analysis\n",
    "* Of the 1163 active players, the vast majority are male (84%). There also exists, a smaller, but notable proportion of female players (14%).\n",
    "\n",
    "* Our peak age demographic falls between 20-24 (44.8%) with secondary groups falling between 15-19 (18.60%) and 25-29 (13.4%).  \n",
    "-----"
   ]
  },
  {
   "cell_type": "markdown",
   "metadata": {},
   "source": [
    "### Note\n",
    "* Instructions have been included for each segment. You do not have to follow them exactly, but they are included to help you think through the steps."
   ]
  },
  {
   "cell_type": "code",
   "execution_count": null,
   "metadata": {},
   "outputs": [],
   "source": [
    "# Dependencies and Setup\n",
    "import pandas as pd\n",
    "\n",
    "# File to Load (Remember to Change These)\n",
    "file_to_load = \"../Instructions/HeroesOfPymoli/Resources/purchase_data.csv\"\n",
    "\n",
    "# Read Purchasing File and store into Pandas data frame\n",
    "purchase_data = pd.read_csv(file_to_load)"
   ]
  },
  {
   "cell_type": "markdown",
   "metadata": {},
   "source": [
    "## Player Count"
   ]
  },
  {
   "cell_type": "markdown",
   "metadata": {},
   "source": [
    "* Display the total number of players\n"
   ]
  },
  {
   "cell_type": "code",
   "execution_count": null,
   "metadata": {},
   "outputs": [],
   "source": [
    "player_count = len(purchase_data[\"SN\"].unique())\n",
    "player_count"
   ]
  },
  {
   "cell_type": "markdown",
   "metadata": {},
   "source": [
    "## Purchasing Analysis (Total)"
   ]
  },
  {
   "cell_type": "markdown",
   "metadata": {},
   "source": [
    "* Run basic calculations to obtain number of unique items, average price, etc.\n",
    "\n",
    "\n",
    "* Create a summary data frame to hold the results\n",
    "\n",
    "\n",
    "* Optional: give the displayed data cleaner formatting\n",
    "\n",
    "\n",
    "* Display the summary data frame\n"
   ]
  },
  {
   "cell_type": "code",
   "execution_count": null,
   "metadata": {
    "scrolled": true
   },
   "outputs": [],
   "source": [
    "summary_table = pd.DataFrame({\"Total Players\": [player_count]})\n",
    "summary_table"
   ]
  },
  {
   "cell_type": "code",
   "execution_count": null,
   "metadata": {},
   "outputs": [],
   "source": [
    "# Unique items\n",
    "item_count = len(purchase_data[\"Item ID\"].unique())\n",
    "\n",
    "# Punrchases\n",
    "purchases_count = len(purchase_data[\"Purchase ID\"])\n",
    "\n",
    "# Revenue\n",
    "sum_purchse = purchase_data[\"Price\"].sum()\n",
    "\n",
    "# Average purchase price\n",
    "average_purchase_price = purchase_data[\"Price\"].mean()\n",
    "\n",
    "# Summary Table 2\n",
    "df2 = pd.DataFrame({\"Unique Items Count\": [item_count], \n",
    "                    \"Purchase Count\": [purchases_count], \n",
    "                    \"Sum Purchase\": [sum_purchse], \n",
    "                    \"Average Purchase Price\": [average_purchase_price]})\n",
    "\n",
    "# Format\n",
    "df2[\"Sum Purchase\"] = df2[\"Sum Purchase\"].map(\"${:,.2f}\".format)\n",
    "df2[\"Average Purchase Price\"] = df2[\"Average Purchase Price\"].map(\"${:,.2f}\".format)\n",
    "\n",
    "df2"
   ]
  },
  {
   "cell_type": "markdown",
   "metadata": {},
   "source": [
    "## Gender Demographics"
   ]
  },
  {
   "cell_type": "markdown",
   "metadata": {},
   "source": [
    "* Percentage and Count of Male Players\n",
    "\n",
    "\n",
    "* Percentage and Count of Female Players\n",
    "\n",
    "\n",
    "* Percentage and Count of Other / Non-Disclosed\n",
    "\n",
    "\n"
   ]
  },
  {
   "cell_type": "code",
   "execution_count": null,
   "metadata": {},
   "outputs": [],
   "source": [
    "# Gender\n",
    "gender = purchase_data.groupby(\"Gender\")\n",
    "\n",
    "# Total Gender\n",
    "gender_count = gender.nunique()[\"SN\"]\n",
    "\n",
    "# Percent Gender\n",
    "percent_gender = gender_count / player_count * 100\n",
    "\n",
    "# Summary Table 3\n",
    "summary_table3=pd.DataFrame({\"Total Count\": gender_count,\n",
    "                             \"Percentage Of Players\": percent_gender})\n",
    "\n",
    "# Format\n",
    "summary_table3[\"Percentage Of Players\"] = summary_table3[\"Percentage Of Players\"].map(\"{:,.2f}%\".format)\n",
    "summary_table3"
   ]
  },
  {
   "cell_type": "markdown",
   "metadata": {},
   "source": [
    "\n",
    "## Purchasing Analysis (Gender)"
   ]
  },
  {
   "cell_type": "markdown",
   "metadata": {},
   "source": [
    "* Run basic calculations to obtain purchase count, avg. purchase price, avg. purchase total per person etc. by gender\n",
    "\n",
    "\n",
    "\n",
    "\n",
    "* Create a summary data frame to hold the results\n",
    "\n",
    "\n",
    "* Optional: give the displayed data cleaner formatting\n",
    "\n",
    "\n",
    "* Display the summary data frame"
   ]
  },
  {
   "cell_type": "code",
   "execution_count": null,
   "metadata": {},
   "outputs": [],
   "source": [
    "# Purchase Count\n",
    "gender = purchase_data.groupby([\"Gender\"]).count()[\"Price\"]\n",
    "\n",
    "# Average Purchase Price\n",
    "average_price = purchase_data.groupby([\"Gender\"]).mean()[\"Price\"]\n",
    "\n",
    "# Total Purchase Value\n",
    "sum_price = purchase_data.groupby([\"Gender\"]).sum()[\"Price\"]\n",
    "\n",
    "# Avg Total Purchase per Person\n",
    "total_per_person = sum_price/gender_count\n",
    "\n",
    "# Summary Table 4\n",
    "summary_table4=pd.DataFrame({\"Purchase Count\": gender,\n",
    "                            \"Average Purchase Price\": average_price,\n",
    "                            \"Total Purchase Value\": sum_price,\n",
    "                            \"Avg Total Purchase per Person\": total_per_person})\n",
    "\n",
    "# Format\n",
    "summary_table4[\"Average Purchase Price\"] = summary_table4[\"Average Purchase Price\"].map(\"${:,.2f}\".format)\n",
    "summary_table4[\"Total Purchase Value\"] = summary_table4[\"Total Purchase Value\"].map(\"${:,.2f}\".format)\n",
    "summary_table4[\"Avg Total Purchase per Person\"] = summary_table4[\"Avg Total Purchase per Person\"].map(\"{:,.2f}%\".format)\n",
    "summary_table4"
   ]
  },
  {
   "cell_type": "markdown",
   "metadata": {},
   "source": [
    "## Age Demographics"
   ]
  },
  {
   "cell_type": "markdown",
   "metadata": {},
   "source": [
    "* Establish bins for ages\n",
    "\n",
    "\n",
    "* Categorize the existing players using the age bins. Hint: use pd.cut()\n",
    "\n",
    "\n",
    "* Calculate the numbers and percentages by age group\n",
    "\n",
    "\n",
    "* Create a summary data frame to hold the results\n",
    "\n",
    "\n",
    "* Optional: round the percentage column to two decimal points\n",
    "\n",
    "\n",
    "* Display Age Demographics Table\n"
   ]
  },
  {
   "cell_type": "code",
   "execution_count": null,
   "metadata": {},
   "outputs": [],
   "source": [
    "#Beans & Names\n",
    "bins = [0, 9.90, 14.90, 19.90, 24.90, 29.90, 34.90, 39.90, 99999]\n",
    "group_names = [\"<10\", \"10-14\", \"15-19\", \"20-24\", \"25-29\", \"30-34\", \"35-39\", \"40+\"]\n",
    "\n",
    "# Cut\n",
    "purchase_data[\"Age Group\"] = pd.cut(purchase_data[\"Age\"],bins, labels=group_names)\n",
    "\n",
    "# Group \"Age Group\"\n",
    "age_grouped = purchase_data.groupby(\"Age Group\")\n",
    "\n",
    "# Total Count\n",
    "total_count_age = age_grouped[\"SN\"].nunique()\n",
    "\n",
    "# Percentage of Players\n",
    "percentage_by_age = (total_count_age/player_count) * 100\n",
    "\n",
    "# Summary Table 5\n",
    "summary_table5 = pd.DataFrame({\"Total Count\": total_count_age,\n",
    "                                 \"Percentage of Players\": percentage_by_age})\n",
    "\n",
    "#Format\n",
    "summary_table5[\"Percentage of Players\"] = summary_table5[\"Percentage of Players\"].map(\"{:,.2f}%\".format)\n",
    "summary_table5"
   ]
  },
  {
   "cell_type": "markdown",
   "metadata": {},
   "source": [
    "## Purchasing Analysis (Age)\n"
   ]
  },
  {
   "cell_type": "markdown",
   "metadata": {},
   "source": [
    "* Bin the purchase_data data frame by age\n",
    "\n",
    "\n",
    "* Run basic calculations to obtain purchase count, avg. purchase price, avg. purchase total per person etc. in the table below\n",
    "\n",
    "\n",
    "* Create a summary data frame to hold the results\n",
    "\n",
    "\n",
    "* Optional: give the displayed data cleaner formatting\n",
    "\n",
    "\n",
    "* Display the summary data frame"
   ]
  },
  {
   "cell_type": "code",
   "execution_count": null,
   "metadata": {},
   "outputs": [],
   "source": [
    "# Purchases by age group\n",
    "purchase_count_age = age_grouped[\"Purchase ID\"].count()\n",
    "\n",
    "# Average purchase price by age group \n",
    "avg_purchase_price_age = age_grouped[\"Price\"].mean()\n",
    "\n",
    "# Total purchase value by age group \n",
    "total_purchase_value = age_grouped[\"Price\"].sum()\n",
    "\n",
    "# Average purchase per person\n",
    "avg_purchase_per_person_age = total_purchase_value/total_count_age\n",
    "\n",
    "# Summary Table 6\n",
    "summary_table6 = pd.DataFrame({\"Purchase Count\": purchase_count_age,\n",
    "                                 \"Average Purchase Price\": avg_purchase_price_age,\n",
    "                                 \"Total Purchase Value\":total_purchase_value,\n",
    "                                 \"Average Purchase Total per Person\": avg_purchase_per_person_age})\n",
    "\n",
    "# Format\n",
    "summary_table6[\"Average Purchase Price\"] = summary_table6[\"Average Purchase Price\"].map(\"{:,.2f}%\".format)\n",
    "summary_table6[\"Total Purchase Value\"] = summary_table6[\"Total Purchase Value\"].map(\"{:,.2f}%\".format)\n",
    "summary_table6[\"Average Purchase Total per Person\"] = summary_table6[\"Average Purchase Total per Person\"].map(\"{:,.2f}%\".format)\n",
    "summary_table6"
   ]
  },
  {
   "cell_type": "markdown",
   "metadata": {},
   "source": [
    "## Top Spenders"
   ]
  },
  {
   "cell_type": "markdown",
   "metadata": {},
   "source": [
    "* Run basic calculations to obtain the results in the table below\n",
    "\n",
    "\n",
    "* Create a summary data frame to hold the results\n",
    "\n",
    "\n",
    "* Sort the total purchase value column in descending order\n",
    "\n",
    "\n",
    "* Optional: give the displayed data cleaner formatting\n",
    "\n",
    "\n",
    "* Display a preview of the summary data frame\n",
    "\n"
   ]
  },
  {
   "cell_type": "code",
   "execution_count": null,
   "metadata": {},
   "outputs": [],
   "source": [
    "# Purchase data\n",
    "spender_stats = purchase_data.groupby(\"SN\")\n",
    "\n",
    "# Total purchases\n",
    "purchase_count_spender = spender_stats[\"Purchase ID\"].count()\n",
    "\n",
    "# Average \n",
    "avg_purchase_price_spender = spender_stats[\"Price\"].mean()\n",
    "\n",
    "# Purchase Total \n",
    "purchase_total_spender = spender_stats[\"Price\"].sum()\n",
    "\n",
    "# Summary Table 7\n",
    "summary_table7 = pd.DataFrame({\"Purchase Count\": purchase_count_spender,\n",
    "                             \"Average Purchase Price\": avg_purchase_price_spender,\n",
    "                             \"Total Purchase Value\":purchase_total_spender})\n",
    "\n",
    "# Sort\n",
    "summary_table7_format = summary_table7.sort_values([\"Total Purchase Value\"], ascending=False).head()\n",
    "\n",
    "# Format\n",
    "summary_table7_format[\"Average Purchase Price\"] = summary_table7_format[\"Average Purchase Price\"].map(\"${:,.2f}\".format)\n",
    "summary_table7_format[\"Total Purchase Value\"] = summary_table7_format[\"Total Purchase Value\"].map(\"${:,.2f}\".format)\n",
    "summary_table7_format"
   ]
  },
  {
   "cell_type": "markdown",
   "metadata": {},
   "source": [
    "## Most Popular Items"
   ]
  },
  {
   "cell_type": "markdown",
   "metadata": {},
   "source": [
    "* Retrieve the Item ID, Item Name, and Item Price columns\n",
    "\n",
    "\n",
    "* Group by Item ID and Item Name. Perform calculations to obtain purchase count, item price, and total purchase value\n",
    "\n",
    "\n",
    "* Create a summary data frame to hold the results\n",
    "\n",
    "\n",
    "* Sort the purchase count column in descending order\n",
    "\n",
    "\n",
    "* Optional: give the displayed data cleaner formatting\n",
    "\n",
    "\n",
    "* Display a preview of the summary data frame\n",
    "\n"
   ]
  },
  {
   "cell_type": "code",
   "execution_count": null,
   "metadata": {},
   "outputs": [],
   "source": [
    "# Items Names\n",
    "items = purchase_data[[\"Item ID\", \"Item Name\", \"Price\"]]\n",
    "\n",
    "# Group\n",
    "item_stats = items.groupby([\"Item ID\",\"Item Name\"])\n",
    "\n",
    "# Total\n",
    "purchase_count_item = item_stats[\"Price\"].count()\n",
    "\n",
    "# Sum\n",
    "purchase_value = (item_stats[\"Price\"].sum()) \n",
    "\n",
    "# Price\n",
    "item_price = purchase_value/purchase_count_item\n",
    "\n",
    "# Summary Table 8\n",
    "summary_table8 = pd.DataFrame({\"Purchase Count\": purchase_count_item, \n",
    "                                   \"Item Price\": item_price,\n",
    "                                   \"Total Purchase Value\":purchase_value})\n",
    "\n",
    "# Sort\n",
    "summary_table8_format = summary_table8.sort_values([\"Purchase Count\"], ascending=False).head()\n",
    "\n",
    "# FOrmat\n",
    "summary_table8_format[\"Item Price\"] = summary_table8_format[\"Item Price\"].map(\"${:,.2f}\".format)\n",
    "summary_table8_format[\"Total Purchase Value\"] = summary_table8_format[\"Total Purchase Value\"].map(\"${:,.2f}\".format)\n",
    "summary_table8_format"
   ]
  },
  {
   "cell_type": "markdown",
   "metadata": {},
   "source": [
    "## Most Profitable Items"
   ]
  },
  {
   "cell_type": "markdown",
   "metadata": {},
   "source": [
    "* Sort the above table by total purchase value in descending order\n",
    "\n",
    "\n",
    "* Optional: give the displayed data cleaner formatting\n",
    "\n",
    "\n",
    "* Display a preview of the data frame\n",
    "\n"
   ]
  },
  {
   "cell_type": "code",
   "execution_count": null,
   "metadata": {},
   "outputs": [],
   "source": [
    "# Sort\n",
    "popular_format = summary_table8.sort_values([\"Total Purchase Value\"],\n",
    "                                                   ascending=False).head()\n",
    "# Format\n",
    "popular_format[\"Item Price\"] = popular_format[\"Item Price\"].map(\"${:,.2f}\".format)\n",
    "popular_format[\"Total Purchase Value\"] = popular_format[\"Total Purchase Value\"].map(\"${:,.2f}\".format)\n",
    "popular_format"
   ]
  },
  {
   "cell_type": "code",
   "execution_count": null,
   "metadata": {},
   "outputs": [],
   "source": []
  }
 ],
 "metadata": {
  "anaconda-cloud": {},
  "kernel_info": {
   "name": "python3"
  },
  "kernelspec": {
   "display_name": "Python 3",
   "language": "python",
   "name": "python3"
  },
  "language_info": {
   "codemirror_mode": {
    "name": "ipython",
    "version": 3
   },
   "file_extension": ".py",
   "mimetype": "text/x-python",
   "name": "python",
   "nbconvert_exporter": "python",
   "pygments_lexer": "ipython3",
   "version": "3.7.6"
  },
  "latex_envs": {
   "LaTeX_envs_menu_present": true,
   "autoclose": false,
   "autocomplete": true,
   "bibliofile": "biblio.bib",
   "cite_by": "apalike",
   "current_citInitial": 1,
   "eqLabelWithNumbers": true,
   "eqNumInitial": 1,
   "hotkeys": {
    "equation": "Ctrl-E",
    "itemize": "Ctrl-I"
   },
   "labels_anchors": false,
   "latex_user_defs": false,
   "report_style_numbering": false,
   "user_envs_cfg": false
  },
  "nteract": {
   "version": "0.2.0"
  }
 },
 "nbformat": 4,
 "nbformat_minor": 2
}
