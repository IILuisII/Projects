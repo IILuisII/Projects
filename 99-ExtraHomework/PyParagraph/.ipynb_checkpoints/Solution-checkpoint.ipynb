{
 "cells": [
  {
   "cell_type": "markdown",
   "metadata": {},
   "source": [
    "#### Your task is to create a Python script to automate the analysis of any such passage using these metrics. Your script will need to do the following:\n",
    "#### Import a text file filled with a paragraph of your choosing.\n",
    "#### Assess the passage for each of the following:\n",
    "\n",
    "#### -Approximate word count\n",
    "#### -Approximate sentence count\n",
    "#### -Approximate letter count (per word)\n",
    "#### -Average sentence length (in words)"
   ]
  },
  {
   "cell_type": "code",
   "execution_count": 1,
   "metadata": {},
   "outputs": [],
   "source": [
    "import re\n",
    "import os\n",
    "import numpy as np"
   ]
  },
  {
   "cell_type": "code",
   "execution_count": 2,
   "metadata": {},
   "outputs": [],
   "source": [
    "file_to_load = os.path.join(\"raw_data\", \"paragraph_3.txt\")\n",
    "file_to_output = os.path.join(\"analysis\", \"paragraph_analysis.txt\")"
   ]
  },
  {
   "cell_type": "code",
   "execution_count": 3,
   "metadata": {},
   "outputs": [],
   "source": [
    "# Read the text file\n",
    "with open(file_to_load, encoding=\"utf8\") as txt_data:\n",
    "\n",
    "    # Store the contents as a string (with no new lines)\n",
    "    paragraph = txt_data.read().replace(\"\\n\", \" \")"
   ]
  },
  {
   "cell_type": "code",
   "execution_count": 5,
   "metadata": {},
   "outputs": [],
   "source": [
    "def worthings(paragraph):\n",
    "    words = paragraph.split(\" \")\n",
    "    \n",
    "    letter_count = []\n",
    "    for word in words:\n",
    "        letter_count.append(len(word))\n",
    "    mean = np.average(letter_count)\n",
    "    \n",
    "    #Split original paragraph based on (. ? !)\n",
    "    paragraph_split = re.split(\"(?<=[.!?]) +\", paragraph)\n",
    "    sentence_count = len(paragraph_split)\n",
    "    \n",
    "    #Lenght of each sentence\n",
    "    words_per_sentence = []\n",
    "    for sentence in paragraph_split:\n",
    "        words_per_sentence.append(len(sentence.split(\" \")))\n",
    "    mean2 = np.average(words_per_sentence)\n",
    "    \n",
    "    print(f\" The lenght of tis paragraph is {len(words)}.\")\n",
    "    print(f\" The average length of each word is {mean}.\")\n",
    "    print(f\" There are {sentence_count} sentences in this paragraph.\")\n",
    "    print(f\" The average lenght of each sentence is {mean2}.\")"
   ]
  },
  {
   "cell_type": "code",
   "execution_count": 10,
   "metadata": {},
   "outputs": [
    {
     "name": "stdout",
     "output_type": "stream",
     "text": [
      " The lenght of tis paragraph is 120.\n",
      " The average length of each word is 4.6.\n",
      " There are 5 sentences in this paragraph.\n",
      " The average lenght of each sentence is 24.0.\n"
     ]
    }
   ],
   "source": [
    "worthings(paragraph)"
   ]
  },
  {
   "cell_type": "code",
   "execution_count": null,
   "metadata": {},
   "outputs": [],
   "source": []
  }
 ],
 "metadata": {
  "kernelspec": {
   "display_name": "Python 3",
   "language": "python",
   "name": "python3"
  },
  "language_info": {
   "codemirror_mode": {
    "name": "ipython",
    "version": 3
   },
   "file_extension": ".py",
   "mimetype": "text/x-python",
   "name": "python",
   "nbconvert_exporter": "python",
   "pygments_lexer": "ipython3",
   "version": "3.7.6"
  }
 },
 "nbformat": 4,
 "nbformat_minor": 4
}
