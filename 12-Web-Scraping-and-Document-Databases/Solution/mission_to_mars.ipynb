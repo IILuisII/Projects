{
 "cells": [
  {
   "cell_type": "code",
   "execution_count": 1,
   "metadata": {},
   "outputs": [],
   "source": [
    " # Dependencies\n",
    "from bs4 import BeautifulSoup\n",
    "import requests\n",
    "import pandas as pd\n",
    "from splinter import Browser\n",
    "from datetime import datetime\n",
    "import json\n",
    "import time"
   ]
  },
  {
   "cell_type": "code",
   "execution_count": 2,
   "metadata": {},
   "outputs": [],
   "source": [
    "executable_path = {'executable_path': r\"C:\\Users\\Maxi\\Desktop\\chromedriver_win32\\chromedriver.exe\"}\n",
    "browser = Browser('chrome', **executable_path, headless=False)"
   ]
  },
  {
   "cell_type": "markdown",
   "metadata": {},
   "source": [
    "# NASA Mars News"
   ]
  },
  {
   "cell_type": "code",
   "execution_count": 9,
   "metadata": {},
   "outputs": [],
   "source": [
    "url = 'https://mars.nasa.gov/news/'\n",
    "browser.visit(url)"
   ]
  },
  {
   "cell_type": "code",
   "execution_count": 10,
   "metadata": {},
   "outputs": [],
   "source": [
    "html = browser.html\n",
    "soup = BeautifulSoup(html, \"lxml\")"
   ]
  },
  {
   "cell_type": "code",
   "execution_count": 11,
   "metadata": {},
   "outputs": [
    {
     "data": {
      "text/plain": [
       "53"
      ]
     },
     "execution_count": 11,
     "metadata": {},
     "output_type": "execute_result"
    }
   ],
   "source": [
    "news_titles = soup.find_all(class_=\"content_title\")\n",
    "len(news_titles)"
   ]
  },
  {
   "cell_type": "code",
   "execution_count": 12,
   "metadata": {},
   "outputs": [],
   "source": [
    "first = \"\" \n",
    "for news in news_titles:\n",
    "    if news.a:\n",
    "        first = news\n",
    "        break"
   ]
  },
  {
   "cell_type": "code",
   "execution_count": 13,
   "metadata": {},
   "outputs": [
    {
     "data": {
      "text/plain": [
       "40"
      ]
     },
     "execution_count": 13,
     "metadata": {},
     "output_type": "execute_result"
    }
   ],
   "source": [
    "subheader = soup.find_all(class_=\"article_teaser_body\")\n",
    "len(subheader)"
   ]
  },
  {
   "cell_type": "code",
   "execution_count": 14,
   "metadata": {},
   "outputs": [
    {
     "data": {
      "text/plain": [
       "\"How NASA's Mars Helicopter Will Reach the Red Planet's Surface\""
      ]
     },
     "execution_count": 14,
     "metadata": {},
     "output_type": "execute_result"
    }
   ],
   "source": [
    "title = first.a.text.strip()\n",
    "title"
   ]
  },
  {
   "cell_type": "code",
   "execution_count": 15,
   "metadata": {},
   "outputs": [
    {
     "data": {
      "text/plain": [
       "'https://mars.nasa.gov/news/8699/how-nasas-mars-helicopter-will-reach-the-red-planets-surface/'"
      ]
     },
     "execution_count": 15,
     "metadata": {},
     "output_type": "execute_result"
    }
   ],
   "source": [
    "link_nasa = \"https://mars.nasa.gov\" + first.a['href']\n",
    "link_nasa"
   ]
  },
  {
   "cell_type": "code",
   "execution_count": 16,
   "metadata": {},
   "outputs": [
    {
     "data": {
      "text/plain": [
       "'The small craft will seek to prove that powered, controlled flight is possible on another planet. But just getting it onto the surface of Mars will take a whole lot of ingenuity.'"
      ]
     },
     "execution_count": 16,
     "metadata": {},
     "output_type": "execute_result"
    }
   ],
   "source": [
    "texts = subheader[0].text.strip()\n",
    "texts"
   ]
  },
  {
   "cell_type": "code",
   "execution_count": 17,
   "metadata": {},
   "outputs": [],
   "source": [
    "#browser.quit()"
   ]
  },
  {
   "cell_type": "markdown",
   "metadata": {},
   "source": [
    "# JPL Mars Space Images - Featured Image"
   ]
  },
  {
   "cell_type": "code",
   "execution_count": 18,
   "metadata": {},
   "outputs": [],
   "source": [
    "url = 'https://www.jpl.nasa.gov/spaceimages/?search=&category=Mars'\n",
    "browser.visit(url)\n",
    "html = browser.html\n",
    "soup = BeautifulSoup(html, \"lxml\")"
   ]
  },
  {
   "cell_type": "code",
   "execution_count": 19,
   "metadata": {},
   "outputs": [
    {
     "data": {
      "text/plain": [
       "1"
      ]
     },
     "execution_count": 19,
     "metadata": {},
     "output_type": "execute_result"
    }
   ],
   "source": [
    "featured_image = soup.find_all(class_=\"carousel_item\")\n",
    "len(featured_image)"
   ]
  },
  {
   "cell_type": "code",
   "execution_count": 20,
   "metadata": {},
   "outputs": [
    {
     "data": {
      "text/plain": [
       "'https://www.jpl.nasa.gov/spaceimages/images/wallpaper/PIA16694-1920x1200.jpg'"
      ]
     },
     "execution_count": 20,
     "metadata": {},
     "output_type": "execute_result"
    }
   ],
   "source": [
    "image_url = 'https://www.jpl.nasa.gov' + featured_image[0][\"style\"].split(\" \")[1].split(\"'\")[1]\n",
    "image_url"
   ]
  },
  {
   "cell_type": "code",
   "execution_count": 21,
   "metadata": {},
   "outputs": [],
   "source": [
    "#browser.quit()"
   ]
  },
  {
   "cell_type": "markdown",
   "metadata": {},
   "source": [
    "# Mars Weather"
   ]
  },
  {
   "cell_type": "code",
   "execution_count": 22,
   "metadata": {},
   "outputs": [],
   "source": [
    "url = 'https://twitter.com/marswxreport?lang=en'\n",
    "browser.visit(url)\n",
    "html = browser.html\n",
    "soup = BeautifulSoup(html, \"lxml\")"
   ]
  },
  {
   "cell_type": "code",
   "execution_count": 23,
   "metadata": {},
   "outputs": [
    {
     "data": {
      "text/plain": [
       "38"
      ]
     },
     "execution_count": 23,
     "metadata": {},
     "output_type": "execute_result"
    }
   ],
   "source": [
    "twitter = soup.find_all(\"span\")\n",
    "len(twitter)"
   ]
  },
  {
   "cell_type": "code",
   "execution_count": 24,
   "metadata": {},
   "outputs": [],
   "source": [
    "tweeterText = \"\"\n",
    "for tweet in twitter:\n",
    "    if tweet.text:\n",
    "        if \"InSight sol\" in tweet.text:\n",
    "            tweeterText = tweet.text\n",
    "            break"
   ]
  },
  {
   "cell_type": "code",
   "execution_count": 25,
   "metadata": {},
   "outputs": [
    {
     "data": {
      "text/plain": [
       "''"
      ]
     },
     "execution_count": 25,
     "metadata": {},
     "output_type": "execute_result"
    }
   ],
   "source": [
    "tweeterText"
   ]
  },
  {
   "cell_type": "code",
   "execution_count": 26,
   "metadata": {},
   "outputs": [
    {
     "data": {
      "text/plain": [
       "17"
      ]
     },
     "execution_count": 26,
     "metadata": {},
     "output_type": "execute_result"
    }
   ],
   "source": [
    "twitter_url = soup.find_all(\"a\")\n",
    "len(twitter_url)"
   ]
  },
  {
   "cell_type": "code",
   "execution_count": 27,
   "metadata": {},
   "outputs": [],
   "source": [
    "url = \"\"\n",
    "for link in twitter_url:\n",
    "    if link['href']:\n",
    "        if \"status\" in link[\"href\"]:\n",
    "            url = \"https://www.twitter.com\" + link[\"href\"]\n",
    "            break"
   ]
  },
  {
   "cell_type": "code",
   "execution_count": 28,
   "metadata": {},
   "outputs": [
    {
     "data": {
      "text/plain": [
       "''"
      ]
     },
     "execution_count": 28,
     "metadata": {},
     "output_type": "execute_result"
    }
   ],
   "source": [
    "url"
   ]
  },
  {
   "cell_type": "code",
   "execution_count": 29,
   "metadata": {},
   "outputs": [],
   "source": [
    "#browser.quit()"
   ]
  },
  {
   "cell_type": "markdown",
   "metadata": {},
   "source": [
    "# Mars Facts"
   ]
  },
  {
   "cell_type": "code",
   "execution_count": 30,
   "metadata": {},
   "outputs": [],
   "source": [
    "url = 'https://space-facts.com/mars/'\n",
    "browser.visit(url)\n",
    "html = browser.html"
   ]
  },
  {
   "cell_type": "code",
   "execution_count": 31,
   "metadata": {},
   "outputs": [],
   "source": [
    "dfs = pd.read_html(html)\n",
    "stats = dfs[0]\n",
    "stats.columns = [\"Attribute\", \"Value\"]"
   ]
  },
  {
   "cell_type": "code",
   "execution_count": 32,
   "metadata": {},
   "outputs": [],
   "source": [
    "data_html = stats.to_html(index=False)\n",
    "data_stats = json.loads(stats.to_json(orient=\"records\"))"
   ]
  },
  {
   "cell_type": "code",
   "execution_count": 33,
   "metadata": {},
   "outputs": [],
   "source": [
    "#browser.quit()"
   ]
  },
  {
   "cell_type": "code",
   "execution_count": null,
   "metadata": {},
   "outputs": [],
   "source": []
  },
  {
   "cell_type": "code",
   "execution_count": null,
   "metadata": {},
   "outputs": [],
   "source": []
  },
  {
   "cell_type": "code",
   "execution_count": 34,
   "metadata": {},
   "outputs": [],
   "source": [
    "dictionary = {\n",
    "    \"title\": title,\n",
    "    \"text\": texts,\n",
    "    \"link\": link,\n",
    "    \"featureImageURL\": image_url,\n",
    "    \"tweeterWeatherURL\": twitter_url,\n",
    "    \"tweetWeather\": twitter,\n",
    "    \"marsStatsHTML\": data_html,\n",
    "    \"marsStats\": data_stats,\n",
    "    \"dateScraped\": datetime.now()\n",
    "}"
   ]
  },
  {
   "cell_type": "markdown",
   "metadata": {},
   "source": [
    "# Function"
   ]
  },
  {
   "cell_type": "code",
   "execution_count": 37,
   "metadata": {},
   "outputs": [],
   "source": [
    "def scrape():\n",
    "    #Setup\n",
    "    executable_path = {'executable_path': r\"C:\\Users\\Maxi\\Desktop\\chromedriver_win32\\chromedriver.exe\"}\n",
    "    browser = Browser('chrome', **executable_path, headless=False)\n",
    "    \n",
    "    url = 'https://mars.nasa.gov/news/'\n",
    "    browser.visit(url)\n",
    "    \n",
    "    html = browser.html\n",
    "    soup = BeautifulSoup(html, \"lxml\")\n",
    "    \n",
    "    #NASA Mars News class\n",
    "    news_titles = soup.find_all(class_=\"content_title\")\n",
    "    \n",
    "    first = \"\" \n",
    "    for news in news_titles:\n",
    "        if news.a:\n",
    "            first = news\n",
    "            break\n",
    "    \n",
    "    subheader = soup.find_all(class_=\"article_teaser_body\")\n",
    "            \n",
    "    title = first.a.text.strip()\n",
    "    texts = subheader[0].text.strip()\n",
    "    link_nasa = \"https://mars.nasa.gov\" + first.a['href']\n",
    "    \n",
    "    # JPL Mars Space Images - Featured Image\n",
    "    url = 'https://www.jpl.nasa.gov/spaceimages/?search=&category=Mars'\n",
    "    browser.visit(url)\n",
    "    html = browser.html\n",
    "    soup = BeautifulSoup(html, \"lxml\")\n",
    "    \n",
    "    featured_image = soup.find_all(class_=\"carousel_item\")\n",
    "    image_url = 'https://www.jpl.nasa.gov' + featured_image[0][\"style\"].split(\" \")[1].split(\"'\")[1]\n",
    "    \n",
    "    # Mars Weather\n",
    "    url = 'https://twitter.com/marswxreport?lang=en'\n",
    "    browser.visit(url)\n",
    "    html = browser.html\n",
    "    soup = BeautifulSoup(html, \"lxml\")\n",
    "    \n",
    "    twitter = soup.find_all(\"span\")\n",
    "    tweeterText = \"\"\n",
    "    for tweet in twitter:\n",
    "        if tweet.text:\n",
    "            if \"InSight sol\" in tweet.text:\n",
    "                tweeterText = tweet.text\n",
    "                break\n",
    "    twitter_url = soup.find_all(\"a\")\n",
    "    url = \"\"\n",
    "    for link in twitter_url:\n",
    "        if link['href']:\n",
    "            if \"status\" in link[\"href\"]:\n",
    "                url = \"https://www.twitter.com\" + link[\"href\"]\n",
    "                break\n",
    "    \n",
    "    # Mars Facts\n",
    "    url = 'https://space-facts.com/mars/'\n",
    "    browser.visit(url)\n",
    "    html = browser.html\n",
    "    \n",
    "    dfs = pd.read_html(html)\n",
    "    stats = dfs[0]\n",
    "    stats.columns = [\"Attribute\", \"Value\"]\n",
    "    \n",
    "    data_html = stats.to_html(index=False)\n",
    "    data_stats = json.loads(stats.to_json(orient=\"records\"))\n",
    "    \n",
    "    browser.quit()\n",
    "    \n",
    "    # Dictionary\n",
    "    dictionary = {\n",
    "        \"title\": title,\n",
    "        \"text\": texts,\n",
    "        \"link\": link_nasa,\n",
    "        \"featureImageURL\": image_url,\n",
    "        \"tweeterWeatherURL\": url,\n",
    "        \"tweetWeather\": tweeterText,\n",
    "        \"marsStatsHTML\": data_html,\n",
    "        \"marsStats\": data_stats,\n",
    "        \"active\": 1,\n",
    "    }\n",
    "    \n",
    "    return dictionary"
   ]
  },
  {
   "cell_type": "code",
   "execution_count": 38,
   "metadata": {},
   "outputs": [],
   "source": [
    "mission_to_mars = scrape()"
   ]
  },
  {
   "cell_type": "code",
   "execution_count": 39,
   "metadata": {},
   "outputs": [
    {
     "data": {
      "text/plain": [
       "{'title': \"How NASA's Mars Helicopter Will Reach the Red Planet's Surface\",\n",
       " 'text': 'The small craft will seek to prove that powered, controlled flight is possible on another planet. But just getting it onto the surface of Mars will take a whole lot of ingenuity.',\n",
       " 'link': 'https://mars.nasa.gov/news/8699/how-nasas-mars-helicopter-will-reach-the-red-planets-surface/',\n",
       " 'featureImageURL': 'https://www.jpl.nasa.gov/spaceimages/images/wallpaper/PIA19920-1920x1200.jpg',\n",
       " 'tweeterWeatherURL': 'https://space-facts.com/mars/',\n",
       " 'tweetWeather': '',\n",
       " 'marsStatsHTML': '<table border=\"1\" class=\"dataframe\">\\n  <thead>\\n    <tr style=\"text-align: right;\">\\n      <th>Attribute</th>\\n      <th>Value</th>\\n    </tr>\\n  </thead>\\n  <tbody>\\n    <tr>\\n      <td>Equatorial Diameter:</td>\\n      <td>6,792 km</td>\\n    </tr>\\n    <tr>\\n      <td>Polar Diameter:</td>\\n      <td>6,752 km</td>\\n    </tr>\\n    <tr>\\n      <td>Mass:</td>\\n      <td>6.39 × 10^23 kg (0.11 Earths)</td>\\n    </tr>\\n    <tr>\\n      <td>Moons:</td>\\n      <td>2 (Phobos &amp; Deimos)</td>\\n    </tr>\\n    <tr>\\n      <td>Orbit Distance:</td>\\n      <td>227,943,824 km (1.38 AU)</td>\\n    </tr>\\n    <tr>\\n      <td>Orbit Period:</td>\\n      <td>687 days (1.9 years)</td>\\n    </tr>\\n    <tr>\\n      <td>Surface Temperature:</td>\\n      <td>-87 to -5 °C</td>\\n    </tr>\\n    <tr>\\n      <td>First Record:</td>\\n      <td>2nd millennium BC</td>\\n    </tr>\\n    <tr>\\n      <td>Recorded By:</td>\\n      <td>Egyptian astronomers</td>\\n    </tr>\\n  </tbody>\\n</table>',\n",
       " 'marsStats': [{'Attribute': 'Equatorial Diameter:', 'Value': '6,792 km'},\n",
       "  {'Attribute': 'Polar Diameter:', 'Value': '6,752 km'},\n",
       "  {'Attribute': 'Mass:', 'Value': '6.39 × 10^23 kg (0.11 Earths)'},\n",
       "  {'Attribute': 'Moons:', 'Value': '2 (Phobos & Deimos)'},\n",
       "  {'Attribute': 'Orbit Distance:', 'Value': '227,943,824 km (1.38 AU)'},\n",
       "  {'Attribute': 'Orbit Period:', 'Value': '687 days (1.9 years)'},\n",
       "  {'Attribute': 'Surface Temperature:', 'Value': '-87 to -5 °C'},\n",
       "  {'Attribute': 'First Record:', 'Value': '2nd millennium BC'},\n",
       "  {'Attribute': 'Recorded By:', 'Value': 'Egyptian astronomers'}],\n",
       " 'active': 1}"
      ]
     },
     "execution_count": 39,
     "metadata": {},
     "output_type": "execute_result"
    }
   ],
   "source": [
    "mission_to_mars"
   ]
  },
  {
   "cell_type": "code",
   "execution_count": null,
   "metadata": {},
   "outputs": [],
   "source": []
  }
 ],
 "metadata": {
  "kernelspec": {
   "display_name": "Python 3",
   "language": "python",
   "name": "python3"
  },
  "language_info": {
   "codemirror_mode": {
    "name": "ipython",
    "version": 3
   },
   "file_extension": ".py",
   "mimetype": "text/x-python",
   "name": "python",
   "nbconvert_exporter": "python",
   "pygments_lexer": "ipython3",
   "version": "3.7.6"
  }
 },
 "nbformat": 4,
 "nbformat_minor": 4
}
