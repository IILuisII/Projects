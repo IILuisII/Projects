{
 "cells": [
  {
   "cell_type": "markdown",
   "metadata": {},
   "source": [
    "## Observations and Insights "
   ]
  },
  {
   "cell_type": "markdown",
   "metadata": {},
   "source": []
  },
  {
   "cell_type": "code",
   "execution_count": null,
   "metadata": {
    "scrolled": true
   },
   "outputs": [],
   "source": [
    "# Dependencies and Setup\n",
    "import matplotlib.pyplot as plt\n",
    "import pandas as pd\n",
    "import scipy.stats as st\n",
    "import numpy as np\n",
    "\n",
    "\n",
    "# Study data files\n",
    "mouse_metadata_path = \"data/Mouse_metadata.csv\"\n",
    "study_results_path = \"data/Study_results.csv\"\n",
    "\n",
    "# Read the mouse data and the study results\n",
    "mouse_metadata = pd.read_csv(mouse_metadata_path)\n",
    "study_results = pd.read_csv(study_results_path)\n",
    "\n",
    "# Combine the data into a single dataset\n",
    "data = pd.merge(study_results, mouse_metadata, how='left', on='Mouse ID')\n",
    "\n",
    "data.head()"
   ]
  },
  {
   "cell_type": "code",
   "execution_count": null,
   "metadata": {},
   "outputs": [],
   "source": [
    "# Getting the duplicate mice by ID number that shows up for Mouse ID and Timepoint. \n",
    "clean_df = data.drop_duplicates([\"Mouse ID\", \"Timepoint\"])\n",
    "len(clean_df[\"Mouse ID\"].unique())"
   ]
  },
  {
   "cell_type": "markdown",
   "metadata": {},
   "source": [
    "## Summary Statistics"
   ]
  },
  {
   "cell_type": "code",
   "execution_count": null,
   "metadata": {},
   "outputs": [],
   "source": [
    "# Groupby Regimen\n",
    "#summar_table = pd.DataFrame({}\n",
    "\n",
    "# Gather Statistics\n",
    "#summar_table[\"Mean\"] = pd.DataFrame(df.groupby(\"Drug Regimen\")[\"Tumor Volume (mm3)\"].mean())\n",
    "#summar_table[\"Median\"] = pd.DataFrame(df.groupby(\"Drug Regimen\")[\"Tumor Volume (mm3)\"].median())\n",
    "#summar_table[\"Standard Deviation\"] = pd.DataFrame(df.groupby(\"Drug Regimen\")[\"Tumor Volume (mm3)\"].std())\n",
    "#summar_table[\"Variance\"] = pd.DataFrame(df.groupby(\"Drug Regimen\")[\"Tumor Volume (mm3)\"].var())\n",
    "#summar_table[\"SEM\"] = pd.DataFrame(df.groupby(\"Drug Regimen\")[\"Tumor Volume (mm3)\"].sem())\n",
    "\n",
    "# Set Headers\n",
    "#summar_table = summar_table[[\"Mouse ID\", \"Mean\", \"Median\", \"Standard Deviation\", \"Variance\", \"SEM\"]]\n",
    "#summar_table.head()\n",
    "\n",
    "average = clean_df.groupby(\"Drug Regimen\").mean()[\"Tumor Volume (mm3)\"]\n",
    "sem = clean_df.groupby(\"Drug Regimen\").sem()[\"Tumor Volume (mm3)\"]\n",
    "median = clean_df.groupby(\"Drug Regimen\").median()[\"Tumor Volume (mm3)\"]\n",
    "std = clean_df.groupby(\"Drug Regimen\").std()[\"Tumor Volume (mm3)\"]\n",
    "var = clean_df.groupby(\"Drug Regimen\").var()[\"Tumor Volume (mm3)\"]\n",
    "\n",
    "summary_table = pd.DataFrame({\"Mean Tumor Volume\": average,\n",
    "                             \"Median Tumor Volume\": median,\n",
    "                             \"Variance Tumor Volume\": var,\n",
    "                             \"Std. Error Tumor Volume\": sem,\n",
    "                             \"Std. Dev Tumor Volume\": std,})\n",
    "summary_table"
   ]
  },
  {
   "cell_type": "code",
   "execution_count": null,
   "metadata": {},
   "outputs": [],
   "source": [
    "summary_table = clean_df.groupby(\"Drug Regimen\").agg({\"Tumor Volume (mm3)\":[\"mean\",\"median\",\"var\",\"std\", \"sem\"]})\n",
    "summary_table"
   ]
  },
  {
   "cell_type": "markdown",
   "metadata": {},
   "source": [
    "## Bar Plots"
   ]
  },
  {
   "cell_type": "code",
   "execution_count": null,
   "metadata": {},
   "outputs": [],
   "source": [
    "# Generate a bar plot showing the number of mice per time point for each treatment throughout the course of the study using pandas.\n",
    "\n",
    "counts = clean_df[\"Drug Regimen\"].value_counts()\n",
    "drugs = counts.index.values\n",
    "plt.bar(drugs, counts, color='r', align=\"center\")\n",
    "plt.xticks(rotation=45)\n",
    "plt.xlabel(\"Drug Regime\")\n",
    "plt.ylabel(\"Mice per Time point\")\n",
    "plt.title(\"Mice per Drug Regime\")\n",
    "plt.show()\n",
    "\n",
    "plt.savefig('barpn.png')"
   ]
  },
  {
   "cell_type": "code",
   "execution_count": null,
   "metadata": {},
   "outputs": [],
   "source": [
    "# Generate a bar plot showing the number of mice per time point for each treatment throughout the course of the study using pyplot.\n",
    "\n",
    "datapoints = clean_df[\"Drug Regimen\"].value_counts()\n",
    "datapoints.plot(kind=\"bar\", figsize=(6,4), color = \"r\", legend=False, alpha=0.75, rot=45)\n",
    "plt.title(\"Mice per Drug Regime\")\n",
    "plt.xlabel(\"Drug Regime\")\n",
    "plt.ylabel(\"Mice per Time point\")\n",
    "plt.show()\n",
    "\n",
    "plt.savefig('barplt.png')"
   ]
  },
  {
   "cell_type": "markdown",
   "metadata": {},
   "source": [
    "## Pie Plots"
   ]
  },
  {
   "cell_type": "code",
   "execution_count": null,
   "metadata": {},
   "outputs": [],
   "source": [
    "# Generate a pie plot showing the distribution of female versus male mice using pandas\n",
    "counts = clean_df.groupby(\"Sex\").count()[\"Mouse ID\"]\n",
    "colors = ['pink','blue']\n",
    "plt.pie(counts.values,labels = counts.index.values, autopct = '%1.1f%%', startangle=80, colors=colors)\n",
    "\n",
    "plt.show()\n",
    "\n",
    "plt.savefig(\"PyPies.png\")"
   ]
  },
  {
   "cell_type": "code",
   "execution_count": null,
   "metadata": {},
   "outputs": [],
   "source": [
    "# Generate a pie plot showing the distribution of female versus male mice using pyplot\n",
    "\n",
    "colors = ['#ff9999','#66b3ff']\n",
    "counts.plot(kind=\"pie\", labels=counts.index.values, autopct=\"%1.1f%%\", startangle=140, colors=colors)\n",
    "plt.title(\"Gender\")\n",
    "\n",
    "plt.show()\n",
    "\n",
    "plt.savefig(\"PltPies.png\")"
   ]
  },
  {
   "cell_type": "markdown",
   "metadata": {},
   "source": [
    "## Quartiles, Outliers and Boxplots"
   ]
  },
  {
   "cell_type": "code",
   "execution_count": null,
   "metadata": {},
   "outputs": [],
   "source": [
    "# Calculate the final tumor volume of each mouse across four of the most promising treatment regimens. Calculate the IQR and quantitatively determine if there are any potential outliers. \n",
    "\n",
    "# Tumor Volume\n",
    "tumor = clean_df.loc[(clean_df[\"Drug Regimen\"] == \"Capomulin\") | (clean_df[\"Drug Regimen\"] == \"Ramicane\") | \n",
    "                     (clean_df[\"Drug Regimen\"] == \"Ceftamin\") | (clean_df[\"Drug Regimen\"] == \"Propriva\"), :]\n",
    "tumor = tumor.sort_values(\"Timepoint\", ascending = False)\n",
    "    \n",
    "# Quartiles\n",
    "quartiles = tumor['Tumor Volume (mm3)'].quantile([.25,.5,.75])\n",
    "lower = quartiles[0.25]\n",
    "upper = quartiles[0.75]\n",
    "iqr = upper-lower\n",
    "\n",
    "print(f\"The lower quartile of Tumor Volume is: {lower}\")\n",
    "print(f\"The upper quartile of Tumor Volume is: {upper}\")\n",
    "print(f\"The interquartile range of Tumor Volume is: {iqr}\")\n",
    "print(f\"The the median of Tumor Volume is: {quartiles[0.5]} \")\n",
    "print(\"-----------------------------------------------------\")\n",
    "\n",
    "bound1 = lower - (1.5*iqr)\n",
    "bound2 = upper + (1.5*iqr)\n",
    "\n",
    "print(f\"Values below {bound1} are outliers.\")\n",
    "print(f\"Values above {bound2} aree outliers.\")\n"
   ]
  },
  {
   "cell_type": "code",
   "execution_count": null,
   "metadata": {},
   "outputs": [],
   "source": [
    "# Generate a box plot of the final tumor volume of each mouse across four regimens of interest\n",
    "\n",
    "box = tumor['Tumor Volume (mm3)']\n",
    "fig1, ax1 = plt.subplots()\n",
    "ax1.set_title('Tumor Volume of Mice')\n",
    "ax1.set_ylabel('Tumor Volume')\n",
    "ax1.boxplot(box)\n",
    "plt.show()\n",
    "\n",
    "plt.savefig(\"BoxPlot.png\")"
   ]
  },
  {
   "cell_type": "markdown",
   "metadata": {},
   "source": [
    "## Line and Scatter Plots"
   ]
  },
  {
   "cell_type": "code",
   "execution_count": null,
   "metadata": {},
   "outputs": [],
   "source": [
    "# Generate a line plot of time point versus tumor volume for a mouse treated with Capomulin\n",
    "b128 = clean_df.loc[clean_df[\"Mouse ID\"] == \"b128\", :]\n",
    "\n",
    "time_point = b128[\"Timepoint\"]\n",
    "tumor_volume = b128[\"Tumor Volume (mm3)\"]\n",
    "plt.plot(time_point, tumor_volume, marker=\"+\", color=\"red\", linewidth=1)\n",
    "plt.title('Mouse \"b128\"')\n",
    "plt.xlabel(\"Timepoint\")\n",
    "plt.ylabel(\"Tumor Volume\")\n",
    "\n",
    "\n",
    "plt.show()\n",
    "\n",
    "plt.savefig(\"LinePlot.png\")"
   ]
  },
  {
   "cell_type": "code",
   "execution_count": null,
   "metadata": {},
   "outputs": [],
   "source": [
    "# Generate a scatter plot of mouse weight versus average tumor volume for the Capomulin regimen\n",
    "\n",
    "#  x and y values\n",
    "capomulin = clean_df.loc[clean_df[\"Drug Regimen\"] == \"Capomulin\", :]\n",
    "weight_avg = capomulin.groupby(capomulin[\"Mouse ID\"])[\"Weight (g)\"].unique()\n",
    "tumor = capomulin.groupby(capomulin[\"Mouse ID\"])[\"Tumor Volume (mm3)\"].mean()\n",
    "\n",
    "# Plot\n",
    "plt.scatter(weight_avg ,tumor, color=\"red\")\n",
    "plt.xlabel(\"Weight of Mouse (g)\")\n",
    "plt.ylabel(\"Tumor Volume\")\n",
    "plt.show()\n",
    "\n",
    "plt.savefig(\"ScatterPlot.png\")"
   ]
  },
  {
   "cell_type": "markdown",
   "metadata": {},
   "source": [
    "## Correlation and Regression"
   ]
  },
  {
   "cell_type": "code",
   "execution_count": null,
   "metadata": {},
   "outputs": [],
   "source": [
    "# Calculate the correlation coefficient and linear regression model \n",
    "# for mouse weight and average tumor volume for the Capomulin regimen\n",
    "\n",
    "# x and y values\n",
    "weight = capomulin.groupby(capomulin[\"Mouse ID\"])[\"Weight (g)\"].mean()\n",
    "volume = capomulin.groupby(capomulin[\"Mouse ID\"])[\"Tumor Volume (mm3)\"].mean()\n",
    "\n",
    "# Linear regression\n",
    "slope, int, r, p, std_err = st.linregress(weight, volume)\n",
    "equ = slope * weight + int\n",
    "\n",
    "# Plot\n",
    "plt.scatter(weight, volume, color=\"red\")\n",
    "plt.xlabel(\"Weight of Mouse\")\n",
    "plt.ylabel(\"Tumor Volume\")\n",
    "plt.plot(weight, equ, \"--\", color=\"green\")\n",
    "plt.xticks(weight, rotation=90)\n",
    "plt.show()\n",
    "\n",
    "# Correlation Coefficient\n",
    "correlation = round(st.pearsonr(weight, volume)[0],2)\n",
    "\n",
    "print(f'Correlation = {correlation}')\n",
    "\n",
    "plt.savefig(\"L_regression.png\")"
   ]
  },
  {
   "cell_type": "code",
   "execution_count": null,
   "metadata": {},
   "outputs": [],
   "source": []
  }
 ],
 "metadata": {
  "anaconda-cloud": {},
  "kernelspec": {
   "display_name": "Python 3",
   "language": "python",
   "name": "python3"
  },
  "language_info": {
   "codemirror_mode": {
    "name": "ipython",
    "version": 3
   },
   "file_extension": ".py",
   "mimetype": "text/x-python",
   "name": "python",
   "nbconvert_exporter": "python",
   "pygments_lexer": "ipython3",
   "version": "3.7.6"
  }
 },
 "nbformat": 4,
 "nbformat_minor": 2
}
